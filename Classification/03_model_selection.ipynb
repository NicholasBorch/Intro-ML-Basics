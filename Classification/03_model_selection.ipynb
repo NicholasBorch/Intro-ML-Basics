{
 "cells": [
  {
   "cell_type": "markdown",
   "metadata": {},
   "source": [
    "# Model Selection Classification"
   ]
  },
  {
   "cell_type": "markdown",
   "metadata": {},
   "source": [
    "## Import libraries"
   ]
  },
  {
   "cell_type": "code",
   "execution_count": 1,
   "metadata": {},
   "outputs": [],
   "source": [
    "from sklearn.ensemble import RandomForestClassifier, GradientBoostingClassifier\n",
    "from sklearn.linear_model import LogisticRegression\n",
    "from sklearn.svm import SVC\n",
    "from sklearn.neural_network import MLPClassifier\n",
    "from sklearn.decomposition import PCA\n",
    "from sklearn.model_selection import StratifiedKFold, cross_val_score\n",
    "from sklearn.preprocessing import StandardScaler\n",
    "from sklearn.pipeline import Pipeline\n",
    "from tqdm import tqdm\n",
    "import numpy as np\n",
    "import matplotlib.pyplot as plt\n",
    "import pickle"
   ]
  },
  {
   "cell_type": "markdown",
   "metadata": {},
   "source": [
    "## Load data"
   ]
  },
  {
   "cell_type": "code",
   "execution_count": 2,
   "metadata": {},
   "outputs": [],
   "source": [
    "with open('pca_data.pkl', 'rb') as f:\n",
    "    pca_data = pickle.load(f)\n",
    "\n",
    "X_raw = pca_data['X_raw']\n",
    "y = pca_data['y']"
   ]
  },
  {
   "cell_type": "markdown",
   "metadata": {},
   "source": [
    "## Select models to train"
   ]
  },
  {
   "cell_type": "code",
   "execution_count": 4,
   "metadata": {},
   "outputs": [],
   "source": [
    "available_models = {\n",
    "    \"RandomForest\": RandomForestClassifier(random_state=42),\n",
    "    \"LogisticRegression\": LogisticRegression(random_state=42, max_iter=1000),\n",
    "    \"SVM\": SVC(random_state=42),\n",
    "    \"GradientBoosting\": GradientBoostingClassifier(random_state=42),\n",
    "    \"NeuralNetwork\": MLPClassifier(hidden_layer_sizes=(100,), max_iter=1000, random_state=42),\n",
    "}\n",
    "\n",
    "# User input: Specify models to use\n",
    "selected_models = [\"RandomForest\", \"NeuralNetwork\"]\n",
    "\n",
    "# User input: Specify number of folds for cross-validation\n",
    "use_pca = True  # Set to False to skip PCA\n",
    "n_components = 2  # Number of principal components to project onto (if use_pca=True)"
   ]
  },
  {
   "cell_type": "markdown",
   "metadata": {},
   "source": [
    "## Training"
   ]
  },
  {
   "cell_type": "code",
   "execution_count": null,
   "metadata": {},
   "outputs": [],
   "source": [
    "# Initialize cross-validation\n",
    "cv = StratifiedKFold(n_splits=5, shuffle=True, random_state=42)\n",
    "\n",
    "cv_results = {}\n",
    "best_model = None\n",
    "best_mean_accuracy = 0.0\n",
    "\n",
    "# Train each selected model\n",
    "for model_name in tqdm(selected_models, desc=\"Training Models\"):\n",
    "    if model_name not in available_models:\n",
    "        print(f\"Model {model_name} is not available.\")\n",
    "        continue\n",
    "\n",
    "    # Initialize model\n",
    "    model = available_models[model_name]\n",
    "\n",
    "    # Define pipeline components\n",
    "    steps = []\n",
    "    steps.append((\"scaler\", StandardScaler()))\n",
    "    if use_pca:\n",
    "        steps.append((\"pca\", PCA(n_components=n_components)))\n",
    "    steps.append((\"classifier\", model))\n",
    "\n",
    "    # Create pipeline\n",
    "    pipeline = Pipeline(steps)\n",
    "\n",
    "    # Perform CV\n",
    "    print(f\"\\nTraining {model_name} with 5-fold Cross-Validation (PCA: {use_pca}, Components: {n_components}):\")\n",
    "    cv_scores = []\n",
    "    for score in tqdm(cross_val_score(pipeline, X_raw, y, cv=cv), desc=f\"{model_name} Progress\"):\n",
    "        cv_scores.append(score)\n",
    "\n",
    "    # Store results\n",
    "    mean_accuracy = np.mean(cv_scores)\n",
    "    std_accuracy = np.std(cv_scores)\n",
    "    cv_results[model_name] = {\n",
    "        \"scores\": cv_scores,\n",
    "        \"mean_accuracy\": mean_accuracy,\n",
    "        \"std_accuracy\": std_accuracy,\n",
    "        \"pipeline\": pipeline,\n",
    "    }\n",
    "\n",
    "    # Check if this model is the best so far\n",
    "    if mean_accuracy > best_mean_accuracy:\n",
    "        best_mean_accuracy = mean_accuracy\n",
    "        best_model = pipeline  # Save the pipeline of the best model\n",
    "\n",
    "    # Display results for the current model\n",
    "    print(f\"\\n{model_name} Cross-Validation Scores:\")\n",
    "    print(cv_scores)\n",
    "    print(f\"Mean CV Accuracy: {mean_accuracy:.2%}\")\n",
    "    print(f\"Standard Deviation of CV Accuracy: {std_accuracy:.2%}\")\n",
    "    print(\"_\" * 100)"
   ]
  },
  {
   "cell_type": "markdown",
   "metadata": {},
   "source": [
    "## Save best model"
   ]
  },
  {
   "cell_type": "code",
   "execution_count": null,
   "metadata": {},
   "outputs": [],
   "source": [
    "with open('best_model.pkl', 'wb') as f:\n",
    "    pickle.dump(best_model, f)\n",
    "\n",
    "print(f\"\\nBest Model: {best_model.named_steps['classifier'].__class__.__name__}\")\n",
    "print(f\"Best Model Mean CV Accuracy: {best_mean_accuracy:.2%}\")"
   ]
  },
  {
   "cell_type": "markdown",
   "metadata": {},
   "source": [
    "## Cross Validation Results"
   ]
  },
  {
   "cell_type": "code",
   "execution_count": null,
   "metadata": {},
   "outputs": [],
   "source": [
    "def plot_cv_results(cv_results):\n",
    "    model_names = []\n",
    "    cv_means = []\n",
    "    cv_stds = []\n",
    "\n",
    "    for model_name, result in cv_results.items():\n",
    "        model_names.append(model_name)\n",
    "        cv_means.append(result[\"mean_accuracy\"])\n",
    "        cv_stds.append(result[\"std_accuracy\"])\n",
    "\n",
    "    plt.figure(figsize=(10, 6))\n",
    "    plt.bar(model_names, cv_means, yerr=cv_stds, capsize=5, alpha=0.7, color='skyblue')\n",
    "    plt.title('Cross-Validation Accuracy (with Standard Deviation)')\n",
    "    plt.ylabel('Accuracy')\n",
    "    plt.xlabel('Models')\n",
    "    plt.ylim(0, 1)\n",
    "    plt.grid(axis='y', linestyle='--', alpha=0.7)\n",
    "    plt.show()\n",
    "\n",
    "plot_cv_results(cv_results)"
   ]
  }
 ],
 "metadata": {
  "kernelspec": {
   "display_name": "MLDM",
   "language": "python",
   "name": "python3"
  },
  "language_info": {
   "codemirror_mode": {
    "name": "ipython",
    "version": 3
   },
   "file_extension": ".py",
   "mimetype": "text/x-python",
   "name": "python",
   "nbconvert_exporter": "python",
   "pygments_lexer": "ipython3",
   "version": "3.11.7"
  }
 },
 "nbformat": 4,
 "nbformat_minor": 2
}
