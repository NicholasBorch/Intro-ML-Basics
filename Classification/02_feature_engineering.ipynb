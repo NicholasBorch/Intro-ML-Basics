{
 "cells": [
  {
   "cell_type": "markdown",
   "metadata": {},
   "source": [
    "# Feature Engineering Classification"
   ]
  },
  {
   "cell_type": "markdown",
   "metadata": {},
   "source": [
    "## Import libraries"
   ]
  },
  {
   "cell_type": "code",
   "execution_count": 13,
   "metadata": {},
   "outputs": [],
   "source": [
    "from sklearn.decomposition import PCA\n",
    "import pickle\n",
    "import matplotlib.pyplot as plt\n",
    "import numpy as np"
   ]
  },
  {
   "cell_type": "markdown",
   "metadata": {},
   "source": [
    "## Load preprocessed data"
   ]
  },
  {
   "cell_type": "code",
   "execution_count": 2,
   "metadata": {},
   "outputs": [],
   "source": [
    "with open('preprocessed_data.pkl', 'rb') as f:\n",
    "    preprocessed_data = pickle.load(f)\n",
    "\n",
    "X_scaled = preprocessed_data['X_scaled']\n",
    "y = preprocessed_data['y']\n",
    "class_labels = preprocessed_data['label_names']"
   ]
  },
  {
   "cell_type": "markdown",
   "metadata": {},
   "source": [
    "## Apply PCA"
   ]
  },
  {
   "cell_type": "code",
   "execution_count": 3,
   "metadata": {},
   "outputs": [],
   "source": [
    "# User change to preferred number of components\n",
    "n_components = 3\n",
    "\n",
    "pca = PCA(n_components = n_components)\n",
    "X_pca = pca.fit_transform(X_scaled)"
   ]
  },
  {
   "cell_type": "code",
   "execution_count": null,
   "metadata": {},
   "outputs": [],
   "source": [
    "explained_variance = pca.explained_variance_ratio_\n",
    "print(\"Explained Variance by Principal Components:\")\n",
    "for i, var in enumerate(explained_variance, start=1):\n",
    "    print(f\"PC{i}: {var:.2%}\")"
   ]
  },
  {
   "cell_type": "markdown",
   "metadata": {},
   "source": [
    "## Save PCA-transformed data"
   ]
  },
  {
   "cell_type": "code",
   "execution_count": 5,
   "metadata": {},
   "outputs": [],
   "source": [
    "pca_data = {\n",
    "    \"X_pca\": X_pca,        # PCA-transformed data\n",
    "    \"X_raw\": preprocessed_data[\"X_raw\"],  # Raw data for CV\n",
    "    \"y\": preprocessed_data[\"y\"]\n",
    "}\n",
    "\n",
    "with open('pca_data.pkl', 'wb') as f:\n",
    "    pickle.dump(pca_data, f)"
   ]
  },
  {
   "cell_type": "markdown",
   "metadata": {},
   "source": [
    "## Plot first two principal components"
   ]
  },
  {
   "cell_type": "code",
   "execution_count": null,
   "metadata": {},
   "outputs": [],
   "source": [
    "plt.figure(figsize=(8, 6))\n",
    "\n",
    "# Plot each class separately to ensure proper legend handling\n",
    "unique_classes = np.unique(y)\n",
    "colors = plt.cm.tab10(range(len(unique_classes)))\n",
    "\n",
    "for i, class_label in enumerate(unique_classes):\n",
    "    plt.scatter(\n",
    "        X_pca[y == class_label, 0],\n",
    "        X_pca[y == class_label, 1],\n",
    "        label=class_labels[i], \n",
    "        color=colors[i], \n",
    "        edgecolor='k',\n",
    "        s=60,\n",
    "    )\n",
    "\n",
    "plt.title('Scatter Plot of First Two Principal Components')\n",
    "plt.xlabel('Principal Component 1')\n",
    "plt.ylabel('Principal Component 2')\n",
    "plt.legend(title=\"Target Class\", loc='best') \n",
    "plt.grid(True)\n",
    "plt.show()"
   ]
  }
 ],
 "metadata": {
  "kernelspec": {
   "display_name": "MLDM",
   "language": "python",
   "name": "python3"
  },
  "language_info": {
   "codemirror_mode": {
    "name": "ipython",
    "version": 3
   },
   "file_extension": ".py",
   "mimetype": "text/x-python",
   "name": "python",
   "nbconvert_exporter": "python",
   "pygments_lexer": "ipython3",
   "version": "3.11.7"
  }
 },
 "nbformat": 4,
 "nbformat_minor": 2
}
