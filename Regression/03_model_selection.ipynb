{
 "cells": [
  {
   "cell_type": "markdown",
   "metadata": {},
   "source": [
    "## Model Selection Regression"
   ]
  },
  {
   "cell_type": "markdown",
   "metadata": {},
   "source": [
    "## Import libraries"
   ]
  },
  {
   "cell_type": "code",
   "execution_count": 1,
   "metadata": {},
   "outputs": [],
   "source": [
    "from sklearn.ensemble import RandomForestRegressor, GradientBoostingRegressor\n",
    "from sklearn.linear_model import LinearRegression, Ridge, Lasso\n",
    "from sklearn.svm import SVR\n",
    "from sklearn.decomposition import PCA\n",
    "from sklearn.model_selection import cross_val_score, KFold\n",
    "from sklearn.preprocessing import StandardScaler\n",
    "from sklearn.pipeline import Pipeline\n",
    "from tqdm import tqdm\n",
    "import numpy as np\n",
    "import matplotlib.pyplot as plt\n",
    "import pickle\n"
   ]
  },
  {
   "cell_type": "markdown",
   "metadata": {},
   "source": [
    "## Load data"
   ]
  },
  {
   "cell_type": "code",
   "execution_count": 2,
   "metadata": {},
   "outputs": [],
   "source": [
    "with open('pca_data.pkl', 'rb') as f:\n",
    "    pca_data = pickle.load(f)\n",
    "\n",
    "X_raw = pca_data['X_raw']\n",
    "y = pca_data['y']"
   ]
  },
  {
   "cell_type": "markdown",
   "metadata": {},
   "source": [
    "## Select models to train"
   ]
  },
  {
   "cell_type": "code",
   "execution_count": 3,
   "metadata": {},
   "outputs": [],
   "source": [
    "available_models = {\n",
    "    \"LinearRegression\": LinearRegression(),\n",
    "    \"Ridge\": Ridge(alpha=1.0),\n",
    "    \"Lasso\": Lasso(alpha=0.1),\n",
    "    \"RandomForest\": RandomForestRegressor(random_state=42),\n",
    "    \"GradientBoosting\": GradientBoostingRegressor(random_state=42),\n",
    "    \"SVR\": SVR()\n",
    "}\n",
    "\n",
    "# User input: Specify models to use\n",
    "selected_models = [\"LinearRegression\", \"RandomForest\", \"Ridge\", \"Lasso\", \"GradientBoosting\", \"SVR\"]\n",
    "\n",
    "# User input: Specify whether to use PCA\n",
    "use_pca = False  # Set to False to skip PCA\n",
    "n_components = 5  # Number of principal components to use if PCA is applied"
   ]
  },
  {
   "cell_type": "markdown",
   "metadata": {},
   "source": [
    "## Training"
   ]
  },
  {
   "cell_type": "code",
   "execution_count": 4,
   "metadata": {},
   "outputs": [
    {
     "name": "stderr",
     "output_type": "stream",
     "text": [
      "Training Models:   0%|          | 0/6 [00:00<?, ?it/s]"
     ]
    },
    {
     "name": "stdout",
     "output_type": "stream",
     "text": [
      "\n",
      "Training LinearRegression with 5-fold Cross-Validation (PCA: False, Components: 5):\n",
      "\n",
      "LinearRegression Cross-Validation Results:\n",
      "Mean MSE: 3015.38\n",
      "Standard Deviation of MSE: 291.24\n",
      "____________________________________________________________________________________________________\n",
      "\n",
      "Training RandomForest with 5-fold Cross-Validation (PCA: False, Components: 5):\n"
     ]
    },
    {
     "name": "stderr",
     "output_type": "stream",
     "text": [
      "Training Models:  67%|██████▋   | 4/6 [00:01<00:00,  2.49it/s]"
     ]
    },
    {
     "name": "stdout",
     "output_type": "stream",
     "text": [
      "\n",
      "RandomForest Cross-Validation Results:\n",
      "Mean MSE: 3318.58\n",
      "Standard Deviation of MSE: 341.86\n",
      "____________________________________________________________________________________________________\n",
      "\n",
      "Training Ridge with 5-fold Cross-Validation (PCA: False, Components: 5):\n",
      "\n",
      "Ridge Cross-Validation Results:\n",
      "Mean MSE: 3012.58\n",
      "Standard Deviation of MSE: 282.58\n",
      "____________________________________________________________________________________________________\n",
      "\n",
      "Training Lasso with 5-fold Cross-Validation (PCA: False, Components: 5):\n",
      "\n",
      "Lasso Cross-Validation Results:\n",
      "Mean MSE: 3009.72\n",
      "Standard Deviation of MSE: 279.88\n",
      "____________________________________________________________________________________________________\n",
      "\n",
      "Training GradientBoosting with 5-fold Cross-Validation (PCA: False, Components: 5):\n"
     ]
    },
    {
     "name": "stderr",
     "output_type": "stream",
     "text": [
      "Training Models: 100%|██████████| 6/6 [00:02<00:00,  2.27it/s]"
     ]
    },
    {
     "name": "stdout",
     "output_type": "stream",
     "text": [
      "\n",
      "GradientBoosting Cross-Validation Results:\n",
      "Mean MSE: 3412.47\n",
      "Standard Deviation of MSE: 397.36\n",
      "____________________________________________________________________________________________________\n",
      "\n",
      "Training SVR with 5-fold Cross-Validation (PCA: False, Components: 5):\n",
      "\n",
      "SVR Cross-Validation Results:\n",
      "Mean MSE: 4989.59\n",
      "Standard Deviation of MSE: 544.09\n",
      "____________________________________________________________________________________________________\n"
     ]
    },
    {
     "name": "stderr",
     "output_type": "stream",
     "text": [
      "\n"
     ]
    }
   ],
   "source": [
    "cv = KFold(n_splits=5, shuffle=True, random_state=42)\n",
    "cv_results = {}\n",
    "best_model = None\n",
    "best_mean_mse = float(\"inf\")\n",
    "\n",
    "# Train each selected model\n",
    "for model_name in tqdm(selected_models, desc=\"Training Models\"):\n",
    "    if model_name not in available_models:\n",
    "        print(f\"Model {model_name} is not available.\")\n",
    "        continue\n",
    "\n",
    "    # Initialize model\n",
    "    model = available_models[model_name]\n",
    "\n",
    "    # Define pipeline components\n",
    "    steps = []\n",
    "    steps.append((\"scaler\", StandardScaler()))\n",
    "    if use_pca:\n",
    "        steps.append((\"pca\", PCA(n_components=n_components)))\n",
    "    steps.append((\"regressor\", model))\n",
    "\n",
    "    # Create pipeline\n",
    "    pipeline = Pipeline(steps)\n",
    "\n",
    "    # Perform CV\n",
    "    print(f\"\\nTraining {model_name} with 5-fold Cross-Validation (PCA: {use_pca}, Components: {n_components}):\")\n",
    "    cv_scores = -cross_val_score(pipeline, X_raw, y, cv=cv, scoring='neg_mean_squared_error')\n",
    "\n",
    "    # Store results\n",
    "    mean_mse = np.mean(cv_scores)\n",
    "    std_mse = np.std(cv_scores)\n",
    "    cv_results[model_name] = {\n",
    "        \"mean_mse\": mean_mse,\n",
    "        \"std_mse\": std_mse,\n",
    "        \"pipeline\": pipeline\n",
    "    }\n",
    "\n",
    "    # Check if this model is the best so far\n",
    "    if mean_mse < best_mean_mse:\n",
    "        best_mean_mse = mean_mse\n",
    "        best_model = pipeline\n",
    "\n",
    "    # Display results for the current model\n",
    "    print(f\"\\n{model_name} Cross-Validation Results:\")\n",
    "    print(f\"Mean MSE: {mean_mse:.2f}\")\n",
    "    print(f\"Standard Deviation of MSE: {std_mse:.2f}\")\n",
    "    print(\"_\" * 100)"
   ]
  },
  {
   "cell_type": "markdown",
   "metadata": {},
   "source": [
    "## Save best model"
   ]
  },
  {
   "cell_type": "code",
   "execution_count": 5,
   "metadata": {},
   "outputs": [
    {
     "name": "stdout",
     "output_type": "stream",
     "text": [
      "\n",
      "Best Model: Lasso\n",
      "Best Model Mean MSE: 3009.72\n"
     ]
    }
   ],
   "source": [
    "with open('best_model.pkl', 'wb') as f:\n",
    "    pickle.dump(best_model, f)\n",
    "\n",
    "print(f\"\\nBest Model: {best_model.named_steps['regressor'].__class__.__name__}\")\n",
    "print(f\"Best Model Mean MSE: {best_mean_mse:.2f}\")"
   ]
  },
  {
   "cell_type": "markdown",
   "metadata": {},
   "source": [
    "## Cross-validation results"
   ]
  },
  {
   "cell_type": "code",
   "execution_count": 6,
   "metadata": {},
   "outputs": [
    {
     "data": {
      "image/png": "[encoded data removed]",
      "text/plain": [
       "<Figure size 1000x600 with 1 Axes>"
      ]
     },
     "metadata": {},
     "output_type": "display_data"
    }
   ],
   "source": [
    "def plot_cv_results(cv_results):\n",
    "    model_names = []\n",
    "    mean_mse = []\n",
    "    std_mse = []\n",
    "\n",
    "    for model_name, result in cv_results.items():\n",
    "        model_names.append(model_name)\n",
    "        mean_mse.append(result[\"mean_mse\"])\n",
    "        std_mse.append(result[\"std_mse\"])\n",
    "\n",
    "    plt.figure(figsize=(10, 6))\n",
    "    plt.barh(model_names, mean_mse, xerr=std_mse, alpha=0.7, color='skyblue', capsize=5)\n",
    "    plt.xlabel('Mean MSE (with Std)')\n",
    "    plt.title('Model Comparison: Cross-Validated Mean Squared Error')\n",
    "    plt.gca().invert_yaxis()\n",
    "    plt.grid(axis='x', linestyle='--', alpha=0.7)\n",
    "    plt.show()\n",
    "\n",
    "plot_cv_results(cv_results)"
   ]
  }
 ],
 "metadata": {
  "kernelspec": {
   "display_name": "MLDM",
   "language": "python",
   "name": "python3"
  },
  "language_info": {
   "codemirror_mode": {
    "name": "ipython",
    "version": 3
   },
   "file_extension": ".py",
   "mimetype": "text/x-python",
   "name": "python",
   "nbconvert_exporter": "python",
   "pygments_lexer": "ipython3",
   "version": "3.11.7"
  }
 },
 "nbformat": 4,
 "nbformat_minor": 2
}
