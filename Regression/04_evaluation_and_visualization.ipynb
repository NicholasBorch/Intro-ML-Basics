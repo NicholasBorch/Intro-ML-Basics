{
 "cells": [
  {
   "cell_type": "markdown",
   "metadata": {},
   "source": [
    "# Evaluation and Visualization Regression"
   ]
  },
  {
   "cell_type": "markdown",
   "metadata": {},
   "source": [
    "## Import libraries"
   ]
  },
  {
   "cell_type": "code",
   "execution_count": 1,
   "metadata": {},
   "outputs": [],
   "source": [
    "from sklearn.metrics import mean_squared_error, r2_score\n",
    "import pickle\n",
    "import matplotlib.pyplot as plt\n",
    "from sklearn.model_selection import train_test_split"
   ]
  },
  {
   "cell_type": "markdown",
   "metadata": {},
   "source": [
    "## Load model and data"
   ]
  },
  {
   "cell_type": "code",
   "execution_count": 2,
   "metadata": {},
   "outputs": [],
   "source": [
    "# Loading the best model\n",
    "with open('best_model.pkl', 'rb') as f:\n",
    "    best_model = pickle.load(f)\n",
    "\n",
    "# Loading the data\n",
    "with open('pca_data.pkl', 'rb') as f:\n",
    "    pca_data = pickle.load(f)\n",
    "\n",
    "X_raw = pca_data['X_raw']\n",
    "y = pca_data['y']"
   ]
  },
  {
   "cell_type": "markdown",
   "metadata": {},
   "source": [
    "## Split data into training and test sets"
   ]
  },
  {
   "cell_type": "code",
   "execution_count": 3,
   "metadata": {},
   "outputs": [],
   "source": [
    "X_train, X_test, y_train, y_test = train_test_split(X_raw, y, test_size=0.2, random_state=42)"
   ]
  },
  {
   "cell_type": "markdown",
   "metadata": {},
   "source": [
    "## Train and test model"
   ]
  },
  {
   "cell_type": "code",
   "execution_count": null,
   "metadata": {},
   "outputs": [],
   "source": [
    "# Training the best model on the full training set\n",
    "print(\"\\nTraining the Best Model on the Training Set...\")\n",
    "best_model.fit(X_train, y_train)\n",
    "\n",
    "# Predicting on the training set\n",
    "y_train_pred = best_model.predict(X_train)\n",
    "\n",
    "# Predicting on the test set\n",
    "y_test_pred = best_model.predict(X_test)\n",
    "\n",
    "# Evaluating on training set\n",
    "train_mse = mean_squared_error(y_train, y_train_pred)\n",
    "train_r2 = r2_score(y_train, y_train_pred)\n",
    "print(f\"\\nTraining Set Performance:\")\n",
    "print(f\"Mean Squared Error: {train_mse:.2f}\")\n",
    "print(f\"R^2 Score: {train_r2:.2f}\")\n",
    "\n",
    "# Evaluating on test set\n",
    "test_mse = mean_squared_error(y_test, y_test_pred)\n",
    "test_r2 = r2_score(y_test, y_test_pred)\n",
    "print(f\"\\nTest Set Performance:\")\n",
    "print(f\"Mean Squared Error: {test_mse:.2f}\")\n",
    "print(f\"R^2 Score: {test_r2:.2f}\")"
   ]
  },
  {
   "cell_type": "markdown",
   "metadata": {},
   "source": [
    "## Plots"
   ]
  },
  {
   "cell_type": "code",
   "execution_count": null,
   "metadata": {},
   "outputs": [],
   "source": [
    "# Plot true vs predicted values for test set\n",
    "plt.figure(figsize=(8, 6))\n",
    "plt.scatter(y_test, y_test_pred, alpha=0.7, color='blue', edgecolor='k')\n",
    "plt.plot([min(y_test), max(y_test)], [min(y_test), max(y_test)], '--', color='red', lw=2)\n",
    "plt.title('True vs Predicted Values (Test Set)')\n",
    "plt.xlabel('True Values')\n",
    "plt.ylabel('Predicted Values')\n",
    "plt.grid(True)\n",
    "plt.show()"
   ]
  },
  {
   "cell_type": "code",
   "execution_count": null,
   "metadata": {},
   "outputs": [],
   "source": [
    "# Plot residuals for test set\n",
    "residuals = y_test - y_test_pred\n",
    "plt.figure(figsize=(8, 6))\n",
    "plt.scatter(y_test_pred, residuals, alpha=0.7, color='green', edgecolor='k')\n",
    "plt.axhline(y=0, color='red', linestyle='--', lw=2)\n",
    "plt.title('Residual Plot (Test Set)')\n",
    "plt.xlabel('Predicted Values')\n",
    "plt.ylabel('Residuals')\n",
    "plt.grid(True)\n",
    "plt.show()"
   ]
  },
  {
   "cell_type": "code",
   "execution_count": 7,
   "metadata": {},
   "outputs": [],
   "source": [
    "# Feature importance (if applicable)\n",
    "if hasattr(best_model.named_steps['regressor'], \"feature_importances_\"):\n",
    "    feature_importances = best_model.named_steps['regressor'].feature_importances_\n",
    "    plt.figure(figsize=(10, 6))\n",
    "    plt.bar(range(len(feature_importances)), feature_importances, color='skyblue', alpha=0.7)\n",
    "    plt.title('Feature Importances')\n",
    "    plt.xlabel('Features')\n",
    "    plt.ylabel('Importance')\n",
    "    plt.grid(True)\n",
    "    plt.show()"
   ]
  }
 ],
 "metadata": {
  "kernelspec": {
   "display_name": "MLDM",
   "language": "python",
   "name": "python3"
  },
  "language_info": {
   "codemirror_mode": {
    "name": "ipython",
    "version": 3
   },
   "file_extension": ".py",
   "mimetype": "text/x-python",
   "name": "python",
   "nbconvert_exporter": "python",
   "pygments_lexer": "ipython3",
   "version": "3.11.7"
  }
 },
 "nbformat": 4,
 "nbformat_minor": 2
}
